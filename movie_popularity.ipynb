{
 "cells": [
  {
   "cell_type": "markdown",
   "source": [
    "## Movie Data Analysis\n",
    "\n",
    "## Goal of Analysis: Use machine learning algorithms to get a highly accurate prediction for how popular a movie will be given the attributes in the TMDB 5000 Movies Dataset."
   ],
   "metadata": {}
  },
  {
   "cell_type": "code",
   "execution_count": 126,
   "source": [
    "# Imports\n",
    "import pandas as pd\n",
    "import numpy as np\n",
    "import nltk\n",
    "from nltk.corpus import stopwords\n",
    "import string\n",
    "from sklearn.preprocessing import StandardScaler\n",
    "from sklearn.preprocessing import MultiLabelBinarizer\n",
    "from sklearn.model_selection import train_test_split\n",
    "from sklearn.linear_model import LinearRegression\n",
    "from sklearn.feature_extraction.text import TfidfVectorizer\n",
    "from sklearn.metrics import r2_score\n",
    "import matplotlib.pyplot as plt\n",
    "import seaborn as sns"
   ],
   "outputs": [],
   "metadata": {}
  },
  {
   "cell_type": "code",
   "execution_count": 127,
   "source": [
    "# Load the TMDB 5000 Movies Dataset\n",
    "df = pd.read_csv('tmdb_5000_movies.csv')"
   ],
   "outputs": [],
   "metadata": {}
  },
  {
   "cell_type": "markdown",
   "source": [
    "## Data Exploration"
   ],
   "metadata": {}
  },
  {
   "cell_type": "code",
   "execution_count": 128,
   "source": [
    "df.info()"
   ],
   "outputs": [
    {
     "output_type": "stream",
     "name": "stdout",
     "text": [
      "<class 'pandas.core.frame.DataFrame'>\n",
      "RangeIndex: 4803 entries, 0 to 4802\n",
      "Data columns (total 20 columns):\n",
      " #   Column                Non-Null Count  Dtype  \n",
      "---  ------                --------------  -----  \n",
      " 0   budget                4803 non-null   int64  \n",
      " 1   genres                4803 non-null   object \n",
      " 2   homepage              1712 non-null   object \n",
      " 3   id                    4803 non-null   int64  \n",
      " 4   keywords              4803 non-null   object \n",
      " 5   original_language     4803 non-null   object \n",
      " 6   original_title        4803 non-null   object \n",
      " 7   overview              4800 non-null   object \n",
      " 8   popularity            4803 non-null   float64\n",
      " 9   production_companies  4803 non-null   object \n",
      " 10  production_countries  4803 non-null   object \n",
      " 11  release_date          4802 non-null   object \n",
      " 12  revenue               4803 non-null   int64  \n",
      " 13  runtime               4801 non-null   float64\n",
      " 14  spoken_languages      4803 non-null   object \n",
      " 15  status                4803 non-null   object \n",
      " 16  tagline               3959 non-null   object \n",
      " 17  title                 4803 non-null   object \n",
      " 18  vote_average          4803 non-null   float64\n",
      " 19  vote_count            4803 non-null   int64  \n",
      "dtypes: float64(3), int64(4), object(13)\n",
      "memory usage: 750.6+ KB\n"
     ]
    }
   ],
   "metadata": {}
  },
  {
   "cell_type": "code",
   "execution_count": 129,
   "source": [
    "df.describe()"
   ],
   "outputs": [
    {
     "output_type": "execute_result",
     "data": {
      "text/html": [
       "<div>\n",
       "<style scoped>\n",
       "    .dataframe tbody tr th:only-of-type {\n",
       "        vertical-align: middle;\n",
       "    }\n",
       "\n",
       "    .dataframe tbody tr th {\n",
       "        vertical-align: top;\n",
       "    }\n",
       "\n",
       "    .dataframe thead th {\n",
       "        text-align: right;\n",
       "    }\n",
       "</style>\n",
       "<table border=\"1\" class=\"dataframe\">\n",
       "  <thead>\n",
       "    <tr style=\"text-align: right;\">\n",
       "      <th></th>\n",
       "      <th>budget</th>\n",
       "      <th>id</th>\n",
       "      <th>popularity</th>\n",
       "      <th>revenue</th>\n",
       "      <th>runtime</th>\n",
       "      <th>vote_average</th>\n",
       "      <th>vote_count</th>\n",
       "    </tr>\n",
       "  </thead>\n",
       "  <tbody>\n",
       "    <tr>\n",
       "      <th>count</th>\n",
       "      <td>4.803000e+03</td>\n",
       "      <td>4803.000000</td>\n",
       "      <td>4803.000000</td>\n",
       "      <td>4.803000e+03</td>\n",
       "      <td>4801.000000</td>\n",
       "      <td>4803.000000</td>\n",
       "      <td>4803.000000</td>\n",
       "    </tr>\n",
       "    <tr>\n",
       "      <th>mean</th>\n",
       "      <td>2.904504e+07</td>\n",
       "      <td>57165.484281</td>\n",
       "      <td>21.492301</td>\n",
       "      <td>8.226064e+07</td>\n",
       "      <td>106.875859</td>\n",
       "      <td>6.092172</td>\n",
       "      <td>690.217989</td>\n",
       "    </tr>\n",
       "    <tr>\n",
       "      <th>std</th>\n",
       "      <td>4.072239e+07</td>\n",
       "      <td>88694.614033</td>\n",
       "      <td>31.816650</td>\n",
       "      <td>1.628571e+08</td>\n",
       "      <td>22.611935</td>\n",
       "      <td>1.194612</td>\n",
       "      <td>1234.585891</td>\n",
       "    </tr>\n",
       "    <tr>\n",
       "      <th>min</th>\n",
       "      <td>0.000000e+00</td>\n",
       "      <td>5.000000</td>\n",
       "      <td>0.000000</td>\n",
       "      <td>0.000000e+00</td>\n",
       "      <td>0.000000</td>\n",
       "      <td>0.000000</td>\n",
       "      <td>0.000000</td>\n",
       "    </tr>\n",
       "    <tr>\n",
       "      <th>25%</th>\n",
       "      <td>7.900000e+05</td>\n",
       "      <td>9014.500000</td>\n",
       "      <td>4.668070</td>\n",
       "      <td>0.000000e+00</td>\n",
       "      <td>94.000000</td>\n",
       "      <td>5.600000</td>\n",
       "      <td>54.000000</td>\n",
       "    </tr>\n",
       "    <tr>\n",
       "      <th>50%</th>\n",
       "      <td>1.500000e+07</td>\n",
       "      <td>14629.000000</td>\n",
       "      <td>12.921594</td>\n",
       "      <td>1.917000e+07</td>\n",
       "      <td>103.000000</td>\n",
       "      <td>6.200000</td>\n",
       "      <td>235.000000</td>\n",
       "    </tr>\n",
       "    <tr>\n",
       "      <th>75%</th>\n",
       "      <td>4.000000e+07</td>\n",
       "      <td>58610.500000</td>\n",
       "      <td>28.313505</td>\n",
       "      <td>9.291719e+07</td>\n",
       "      <td>118.000000</td>\n",
       "      <td>6.800000</td>\n",
       "      <td>737.000000</td>\n",
       "    </tr>\n",
       "    <tr>\n",
       "      <th>max</th>\n",
       "      <td>3.800000e+08</td>\n",
       "      <td>459488.000000</td>\n",
       "      <td>875.581305</td>\n",
       "      <td>2.787965e+09</td>\n",
       "      <td>338.000000</td>\n",
       "      <td>10.000000</td>\n",
       "      <td>13752.000000</td>\n",
       "    </tr>\n",
       "  </tbody>\n",
       "</table>\n",
       "</div>"
      ],
      "text/plain": [
       "             budget             id   popularity       revenue      runtime  \\\n",
       "count  4.803000e+03    4803.000000  4803.000000  4.803000e+03  4801.000000   \n",
       "mean   2.904504e+07   57165.484281    21.492301  8.226064e+07   106.875859   \n",
       "std    4.072239e+07   88694.614033    31.816650  1.628571e+08    22.611935   \n",
       "min    0.000000e+00       5.000000     0.000000  0.000000e+00     0.000000   \n",
       "25%    7.900000e+05    9014.500000     4.668070  0.000000e+00    94.000000   \n",
       "50%    1.500000e+07   14629.000000    12.921594  1.917000e+07   103.000000   \n",
       "75%    4.000000e+07   58610.500000    28.313505  9.291719e+07   118.000000   \n",
       "max    3.800000e+08  459488.000000   875.581305  2.787965e+09   338.000000   \n",
       "\n",
       "       vote_average    vote_count  \n",
       "count   4803.000000   4803.000000  \n",
       "mean       6.092172    690.217989  \n",
       "std        1.194612   1234.585891  \n",
       "min        0.000000      0.000000  \n",
       "25%        5.600000     54.000000  \n",
       "50%        6.200000    235.000000  \n",
       "75%        6.800000    737.000000  \n",
       "max       10.000000  13752.000000  "
      ]
     },
     "metadata": {},
     "execution_count": 129
    }
   ],
   "metadata": {}
  },
  {
   "cell_type": "markdown",
   "source": [
    "## Data Cleaning"
   ],
   "metadata": {}
  },
  {
   "cell_type": "code",
   "execution_count": 130,
   "source": [
    "# Create a copy of the original DataFrame for cleaning\n",
    "df_clean = df.copy()"
   ],
   "outputs": [],
   "metadata": {}
  },
  {
   "cell_type": "code",
   "execution_count": 131,
   "source": [
    "# Drop unnecessary columns\n",
    "columns_to_drop = ['homepage', 'id', 'original_title', 'release_date', 'status', 'spoken_languages']\n",
    "df_clean.drop(columns=columns_to_drop, inplace=True)"
   ],
   "outputs": [],
   "metadata": {}
  },
  {
   "cell_type": "code",
   "execution_count": 132,
   "source": [
    "# Handle null values\n",
    "\n",
    "# runtime has only 2 missing values, so replace null values with median value\n",
    "median_runtime = df_clean['runtime'].median()\n",
    "df_clean['runtime'].fillna(median_runtime, inplace=True)"
   ],
   "outputs": [],
   "metadata": {}
  },
  {
   "cell_type": "code",
   "execution_count": 133,
   "source": [
    "# Perform log transformation for positively-skewed attributes\n",
    "df_clean['budget'] = np.log1p(df_clean['budget'])\n",
    "df_clean['popularity'] = np.log1p(df_clean['popularity'])\n",
    "df_clean['revenue'] = np.log1p(df_clean['revenue'])\n",
    "df_clean['vote_count'] = np.log1p(df_clean['vote_count'])"
   ],
   "outputs": [],
   "metadata": {}
  },
  {
   "cell_type": "code",
   "execution_count": 134,
   "source": [
    "# Account for multicollinearity\n",
    "df_clean.drop('vote_count', axis=1, inplace=True) # vote_count and popularity highly correlated, drop vote_count\n",
    "\n",
    "df_clean['revenue_budget_ratio'] = np.where( # revenue and budget highly correlated, perform feature engineering\n",
    "    (df['budget'] != 0) & (df['revenue'] != 0), # if revenue and budget are both nonzero\n",
    "    df['revenue'] / df['budget'], # calculate the revenue to budget ratio\n",
    "    0  # else, replace with 0\n",
    ")\n",
    "df_clean.drop('revenue', axis=1, inplace=True) # drop the revenue variable\n",
    "df_clean.drop('budget', axis=1, inplace=True) # drop the budget variable"
   ],
   "outputs": [],
   "metadata": {}
  },
  {
   "cell_type": "code",
   "execution_count": 135,
   "source": [
    "# genres; Extract genre names\n",
    "df_clean['genres'] = df_clean['genres'].apply(lambda x: [genre['name'] for genre in eval(x)])"
   ],
   "outputs": [],
   "metadata": {}
  },
  {
   "cell_type": "code",
   "execution_count": 136,
   "source": [
    "# keywords; Extract keywords\n",
    "df_clean['keywords'] = df_clean['keywords'].apply(lambda x: [keyword['name'] for keyword in eval(x)])\n",
    "\n",
    "# since there is a large amount of keywords, get top 50 keywords\n",
    "top_keywords = df_clean['keywords'].explode().value_counts().head(50).index.tolist()"
   ],
   "outputs": [],
   "metadata": {}
  },
  {
   "cell_type": "code",
   "execution_count": 137,
   "source": [
    "# production_companies; Extract production company names\n",
    "df_clean['production_companies'] = df_clean['production_companies'].apply(lambda x: [company['name'] for company in eval(x)])\n",
    "\n",
    "# since there is a large amount of production companies, get top 50 production companies\n",
    "top_production_companies = df_clean['production_companies'].explode().value_counts().head(50).index.tolist()"
   ],
   "outputs": [],
   "metadata": {}
  },
  {
   "cell_type": "code",
   "execution_count": 138,
   "source": [
    "# production_countries; Extract production countries\n",
    "df_clean['production_countries'] = df_clean['production_countries'].apply(lambda x: [country['name'] for country in eval(x)])\n",
    "\n",
    "# since there is a large amount of production countries, get top 50 production countries\n",
    "top_production_countries = df_clean['production_countries'].explode().value_counts().head(50).index.tolist()"
   ],
   "outputs": [],
   "metadata": {}
  },
  {
   "cell_type": "code",
   "execution_count": null,
   "source": [
    "# Encode categorical variables\n",
    "\n",
    "mlb = MultiLabelBinarizer() # initialize the MultiLabelBinarizer\n",
    "\n",
    "genres_encoded = mlb.fit_transform(df_clean['genres'])\n",
    "genres_df = pd.DataFrame(genres_encoded, columns=mlb.classes_)\n",
    "\n",
    "mlb_keywords = MultiLabelBinarizer(classes=top_keywords)\n",
    "keywords_encoded = mlb_keywords.fit_transform(df_clean['keywords'])\n",
    "keywords_df = pd.DataFrame(keywords_encoded, columns=mlb_keywords.classes_)\n",
    "\n",
    "original_language_encoded = mlb.fit_transform(df_clean['original_language'])\n",
    "original_language_df = pd.DataFrame(original_language_encoded, columns=mlb.classes_)\n",
    "\n",
    "mlb_production_companies = MultiLabelBinarizer(classes=top_production_companies)\n",
    "production_companies_encoded = mlb_production_companies.fit_transform(df_clean['production_companies'])\n",
    "production_companies_df = pd.DataFrame(production_companies_encoded, columns=mlb_production_companies.classes_)\n",
    "\n",
    "mlb_production_countries = MultiLabelBinarizer(classes=top_production_countries)\n",
    "production_countries_encoded = mlb_production_countries.fit_transform(df_clean['production_countries'])\n",
    "production_countries_df = pd.DataFrame(production_countries_encoded, columns=mlb_production_countries.classes_)\n",
    "\n",
    "# Drop old categorical fields from the dataframe\n",
    "categorical_fields = ['genres', 'keywords', 'original_language', 'production_companies', 'production_countries']\n",
    "df_clean.drop(columns=categorical_fields, inplace=True)\n",
    "\n",
    "# Reindex the dataframe with encoded categorical columns and non-categorical columns\n",
    "df_clean = pd.concat([df_clean, genres_df, keywords_df, production_companies_df, production_countries_df], axis=1)"
   ],
   "outputs": [],
   "metadata": {}
  },
  {
   "cell_type": "code",
   "execution_count": 140,
   "source": [
    "# title, overview and tagline; Perform text preprocessing on text data for NLP analysis\n",
    "stop_words = set(stopwords.words('english')) # words that are insignificant\n",
    "\n",
    "def preprocess_text(text):\n",
    "    text = str(text) # convert text to string\n",
    "    text = text.lower() # convert characters to lowercase\n",
    "    text = ''.join([char for char in text if char not in string.punctuation]) # remove punctuation\n",
    "    text = ' '.join([word for word in text.split() if word not in stop_words]) # remove stop words\n",
    "    return text\n",
    "\n",
    "df_clean['title'] = df_clean['title'].apply(preprocess_text)\n",
    "df_clean['overview'] = df_clean['overview'].apply(preprocess_text)\n",
    "df_clean['tagline'] = df_clean['tagline'].apply(preprocess_text)\n"
   ],
   "outputs": [],
   "metadata": {}
  },
  {
   "cell_type": "code",
   "execution_count": 141,
   "source": [
    "# Use TFIDF Vectorization to convert text data into numerical features\n",
    "\n",
    "tfidf_title = TfidfVectorizer(max_features=500)\n",
    "tfidf_overview = TfidfVectorizer(max_features=500)\n",
    "tfidf_tagline = TfidfVectorizer(max_features=500)\n",
    "\n",
    "# Fit and transform each text variable using TFIDF vectorization\n",
    "title_matrix = tfidf_title.fit_transform(df_clean['title'])\n",
    "overview_matrix = tfidf_overview.fit_transform(df_clean['overview'])\n",
    "tagline_matrix = tfidf_tagline.fit_transform(df_clean['tagline'])\n",
    "\n",
    "# Convert the TFIDF matrices into DataFrames\n",
    "title_tfidf_df = pd.DataFrame(title_matrix.toarray(), columns=tfidf_title.get_feature_names_out())\n",
    "overview_tfidf_df = pd.DataFrame(overview_matrix.toarray(), columns=tfidf_overview.get_feature_names_out())\n",
    "tagline_tfidf_df = pd.DataFrame(tagline_matrix.toarray(), columns=tfidf_tagline.get_feature_names_out())\n",
    "\n",
    "df_clean.drop(columns=['title', 'overview', 'tagline'], inplace=True) # drop the original text columns from the DataFrame\n",
    "\n",
    "# Concatenate the TF-IDF encoded text features with df_clean\n",
    "data = pd.concat([df_clean, title_tfidf_df, overview_tfidf_df, tagline_tfidf_df], axis=1)"
   ],
   "outputs": [],
   "metadata": {}
  },
  {
   "cell_type": "code",
   "execution_count": 142,
   "source": [
    "# Normalize the continuous variables\n",
    "continuous = ['revenue_budget_ratio', 'popularity', 'runtime', 'vote_average']\n",
    "scaler = StandardScaler()\n",
    "\n",
    "for var in continuous:\n",
    "    data[var] = data[var].astype('float64')\n",
    "    data[var] = scaler.fit_transform(data[[var]])"
   ],
   "outputs": [],
   "metadata": {}
  },
  {
   "cell_type": "code",
   "execution_count": 143,
   "source": [
    "# Make sure data is clean/check for null\n",
    "\n",
    "data[data.isnull().any(axis=1)].head()"
   ],
   "outputs": [
    {
     "output_type": "execute_result",
     "data": {
      "text/html": [
       "<div>\n",
       "<style scoped>\n",
       "    .dataframe tbody tr th:only-of-type {\n",
       "        vertical-align: middle;\n",
       "    }\n",
       "\n",
       "    .dataframe tbody tr th {\n",
       "        vertical-align: top;\n",
       "    }\n",
       "\n",
       "    .dataframe thead th {\n",
       "        text-align: right;\n",
       "    }\n",
       "</style>\n",
       "<table border=\"1\" class=\"dataframe\">\n",
       "  <thead>\n",
       "    <tr style=\"text-align: right;\">\n",
       "      <th></th>\n",
       "      <th>popularity</th>\n",
       "      <th>runtime</th>\n",
       "      <th>vote_average</th>\n",
       "      <th>revenue_budget_ratio</th>\n",
       "      <th>Action</th>\n",
       "      <th>Adventure</th>\n",
       "      <th>Animation</th>\n",
       "      <th>Comedy</th>\n",
       "      <th>Crime</th>\n",
       "      <th>Documentary</th>\n",
       "      <th>...</th>\n",
       "      <th>worst</th>\n",
       "      <th>would</th>\n",
       "      <th>wrong</th>\n",
       "      <th>year</th>\n",
       "      <th>years</th>\n",
       "      <th>york</th>\n",
       "      <th>youll</th>\n",
       "      <th>young</th>\n",
       "      <th>youre</th>\n",
       "      <th>youve</th>\n",
       "    </tr>\n",
       "  </thead>\n",
       "  <tbody>\n",
       "  </tbody>\n",
       "</table>\n",
       "<p>0 rows × 1674 columns</p>\n",
       "</div>"
      ],
      "text/plain": [
       "Empty DataFrame\n",
       "Columns: [popularity, runtime, vote_average, revenue_budget_ratio, Action, Adventure, Animation, Comedy, Crime, Documentary, Drama, Family, Fantasy, Foreign, History, Horror, Music, Mystery, Romance, Science Fiction, TV Movie, Thriller, War, Western, woman director, independent film, duringcreditsstinger, based on novel, murder, aftercreditsstinger, violence, dystopia, sport, revenge, sex, friendship, biography, musical, teenager, 3d, love, sequel, suspense, new york, police, los angeles, high school, alien, prison, nudity, london england, drug, family, superhero, dying and death, father son relationship, daughter, world war ii, kidnapping, wedding, serial killer, suicide, remake, magic, friends, corruption, hospital, party, based on comic book, escape, time travel, based on true story, martial arts, investigation, Warner Bros., Universal Pictures, Paramount Pictures, Twentieth Century Fox Film Corporation, Columbia Pictures, New Line Cinema, Metro-Goldwyn-Mayer (MGM), Touchstone Pictures, Walt Disney Pictures, Relativity Media, Columbia Pictures Corporation, Miramax Films, Village Roadshow Pictures, DreamWorks SKG, United Artists, Canal+, Regency Enterprises, Fox Searchlight Pictures, Dune Entertainment, Lionsgate, Fox 2000 Pictures, TriStar Pictures, Dimension Films, Working Title Films, Summit Entertainment, Amblin Entertainment, ...]\n",
       "Index: []\n",
       "\n",
       "[0 rows x 1674 columns]"
      ]
     },
     "metadata": {},
     "execution_count": 143
    }
   ],
   "metadata": {}
  },
  {
   "cell_type": "code",
   "execution_count": 144,
   "source": [
    "# Save final data ready for analysis\n",
    "\n",
    "data.to_csv('data.csv', index=False)"
   ],
   "outputs": [],
   "metadata": {}
  },
  {
   "cell_type": "markdown",
   "source": [
    "## Machine Learning Model"
   ],
   "metadata": {}
  },
  {
   "cell_type": "code",
   "execution_count": 145,
   "source": [
    "# Split data into training and testing sets\n",
    "\n",
    "X = data.drop(columns=['popularity'])  # features\n",
    "y = data['popularity']  # target variable\n",
    "X_train, X_test, y_train, y_test = train_test_split(X, y, test_size=0.2)"
   ],
   "outputs": [],
   "metadata": {}
  },
  {
   "cell_type": "code",
   "execution_count": 146,
   "source": [
    "# Linear Regression Model\n",
    "\n",
    "# Fit a linear relationship between independent variables (features) and the dependent variable (popularity)\n",
    "lr_model = LinearRegression()\n",
    "lr_model.fit(X_train, y_train)\n",
    "y_lr_pred = lr_model.predict(X_test)"
   ],
   "outputs": [],
   "metadata": {}
  },
  {
   "cell_type": "code",
   "execution_count": 147,
   "source": [
    "# Calculate R-squared value\n",
    "r2 = r2_score(y_test, y_lr_pred)\n",
    "print(f\"R-squared Score: {r2}\")"
   ],
   "outputs": [
    {
     "output_type": "stream",
     "name": "stdout",
     "text": [
      "R-squared Score: 0.34133679315342913\n"
     ]
    }
   ],
   "metadata": {}
  },
  {
   "cell_type": "code",
   "execution_count": null,
   "source": [
    "# Scatter plot of actual vs. predicted popularity\n",
    "plt.figure(figsize=(8, 6))\n",
    "sns.scatterplot(x=y_test, y=y_lr_pred)\n",
    "plt.xlabel('Actual Popularity')\n",
    "plt.ylabel('Predicted Popularity')\n",
    "plt.title('Actual vs. Predicted Popularity (Linear Regression)')\n",
    "plt.show()"
   ],
   "outputs": [],
   "metadata": {}
  },
  {
   "cell_type": "code",
   "execution_count": null,
   "source": [
    "# Residual plot\n",
    "residuals = y_test - y_lr_pred\n",
    "plt.figure(figsize=(8, 6))\n",
    "sns.residplot(x=y_test, y=residuals, lowess=True)\n",
    "plt.xlabel('Actual Popularity')\n",
    "plt.ylabel('Residuals')\n",
    "plt.title('Residual Plot')\n",
    "plt.axhline(y=0, color='r', linestyle='--')\n",
    "plt.show()"
   ],
   "outputs": [],
   "metadata": {}
  }
 ],
 "metadata": {
  "interpreter": {
   "hash": "dca0ade3e726a953b501b15e8e990130d2b7799f14cfd9f4271676035ebe5511"
  },
  "kernelspec": {
   "display_name": "Python 3 (ipykernel)",
   "language": "python",
   "name": "python3"
  },
  "language_info": {
   "codemirror_mode": {
    "name": "ipython",
    "version": 3
   },
   "file_extension": ".py",
   "mimetype": "text/x-python",
   "name": "python",
   "nbconvert_exporter": "python",
   "pygments_lexer": "ipython3",
   "version": "3.11.7"
  }
 },
 "nbformat": 4,
 "nbformat_minor": 5
}